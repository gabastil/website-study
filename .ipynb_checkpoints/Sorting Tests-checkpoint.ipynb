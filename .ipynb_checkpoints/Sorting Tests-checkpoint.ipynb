{
 "cells": [
  {
   "cell_type": "markdown",
   "metadata": {},
   "source": [
    "# Sort Tests\n",
    "\n",
    "Cells with implementations of various sorting and path finding algorithms.\n",
    "\n",
    "### Auxiliary Algorithms"
   ]
  },
  {
   "cell_type": "code",
   "execution_count": 5,
   "metadata": {},
   "outputs": [],
   "source": [
    "import numpy as np"
   ]
  },
  {
   "cell_type": "markdown",
   "metadata": {},
   "source": [
    "For quicksort."
   ]
  },
  {
   "cell_type": "code",
   "execution_count": 1,
   "metadata": {},
   "outputs": [],
   "source": [
    "def swap(data, i, j):\n",
    "    data[i], data[j] = data[j], data[i]"
   ]
  },
  {
   "cell_type": "code",
   "execution_count": 33,
   "metadata": {},
   "outputs": [],
   "source": [
    "def partition(data, i, j):\n",
    "    pivot = data[j]\n",
    "    left, right = i, j - 1\n",
    "    \n",
    "    while left < right:\n",
    "        while data[left] < pivot and left < right:\n",
    "            left += 1\n",
    "        \n",
    "        while data[right] > pivot and left < right:\n",
    "            right -= 1\n",
    "        \n",
    "        if data[left] >= data[right]:\n",
    "            swap(data, left, right)\n",
    "            left += 1\n",
    "            right -= 1\n",
    "\n",
    "    swap(data, left, j)\n",
    "    return left"
   ]
  },
  {
   "cell_type": "markdown",
   "metadata": {},
   "source": [
    "### Quicksort"
   ]
  },
  {
   "cell_type": "code",
   "execution_count": 34,
   "metadata": {},
   "outputs": [],
   "source": [
    "def quicksort(data, i, j):\n",
    "    \n",
    "    if i < j:\n",
    "        index = partition(data, i, j)\n",
    "        print(data)\n",
    "        quicksort(data, i, index - 1)\n",
    "        quicksort(data, index + 1, j)"
   ]
  },
  {
   "cell_type": "markdown",
   "metadata": {},
   "source": [
    "Test quicksort."
   ]
  },
  {
   "cell_type": "code",
   "execution_count": 35,
   "metadata": {},
   "outputs": [
    {
     "name": "stdout",
     "output_type": "stream",
     "text": [
      "data before [ 5  2  1  5 14  6  1  4 12 11]\n",
      "[ 5  2  1  5  4  6  1 14 11 12]\n",
      "[ 5  2  1  5  4  6  1 14 11 12]\n",
      "[ 1  2  1  5  4  6  5 14 11 12]\n",
      "[ 2  1  1  5  4  6  5 14 11 12]\n",
      "[ 2  1  1  4  5  6  5 14 11 12]\n",
      "[ 2  1  1  4  5  5  6 14 11 12]\n",
      "data after [ 2  1  1  4  5  5  6 14 11 12]\n"
     ]
    }
   ],
   "source": [
    "data = np.random.randint(0, 20, size=10)\n",
    "print(f'data before {data}')\n",
    "quicksort(data, 0, len(data) - 1)\n",
    "print(f'data after {data}')"
   ]
  },
  {
   "cell_type": "code",
   "execution_count": null,
   "metadata": {},
   "outputs": [],
   "source": []
  }
 ],
 "metadata": {
  "kernelspec": {
   "display_name": "Python 3",
   "language": "python",
   "name": "python3"
  },
  "language_info": {
   "codemirror_mode": {
    "name": "ipython",
    "version": 3
   },
   "file_extension": ".py",
   "mimetype": "text/x-python",
   "name": "python",
   "nbconvert_exporter": "python",
   "pygments_lexer": "ipython3",
   "version": "3.7.3"
  }
 },
 "nbformat": 4,
 "nbformat_minor": 2
}
