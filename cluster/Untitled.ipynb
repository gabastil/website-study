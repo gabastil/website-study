{
 "cells": [
  {
   "cell_type": "markdown",
   "metadata": {},
   "source": [
    "# Algorithms Develompent Space\n",
    "\n",
    "  1. Quicksort\n",
    "  1. Memoization"
   ]
  },
  {
   "cell_type": "markdown",
   "metadata": {},
   "source": [
    "# Quick Sort Test"
   ]
  },
  {
   "cell_type": "code",
   "execution_count": 1,
   "metadata": {},
   "outputs": [],
   "source": [
    "import numpy as np"
   ]
  },
  {
   "cell_type": "markdown",
   "metadata": {},
   "source": [
    "Define quicksort algorithm.\n",
    "\n",
    "First generate data to sort."
   ]
  },
  {
   "cell_type": "code",
   "execution_count": null,
   "metadata": {},
   "outputs": [],
   "source": [
    "def xswap(array)"
   ]
  },
  {
   "cell_type": "code",
   "execution_count": 616,
   "metadata": {},
   "outputs": [
    {
     "data": {
      "text/plain": [
       "[1, 4, 3, 5, 2, 3]"
      ]
     },
     "execution_count": 616,
     "metadata": {},
     "output_type": "execute_result"
    }
   ],
   "source": [
    "array = [1,2,3, 5, 4, 3]\n",
    "xswap(array, 1, 4)\n",
    "array"
   ]
  },
  {
   "cell_type": "code",
   "execution_count": 453,
   "metadata": {},
   "outputs": [
    {
     "data": {
      "text/plain": [
       "array([4, 5, 3, 8, 0])"
      ]
     },
     "execution_count": 453,
     "metadata": {},
     "output_type": "execute_result"
    }
   ],
   "source": [
    "data = np.random.randint(0, 10, size=5)\n",
    "data"
   ]
  },
  {
   "cell_type": "markdown",
   "metadata": {},
   "source": [
    "Define `swap` function."
   ]
  },
  {
   "cell_type": "code",
   "execution_count": 491,
   "metadata": {},
   "outputs": [],
   "source": [
    "# Function to \"swap\" two numbers (i.e., move a number to the right while preserving order of previous integers)\n",
    "def swap(data, i, j):\n",
    "    ''' \n",
    "    Move an element at index i after index j and move any numbers inbetween to the left\n",
    "    \n",
    "    Parameters\n",
    "    ----------\n",
    "        data (list, np.array) : Array with numbers to swap\n",
    "        i (int) : Index of first number to swap\n",
    "        j (int) : Index of second number to swap\n",
    "    '''\n",
    "    if data is not None:\n",
    "        data[i], data[j] = data[j], data[i]"
   ]
  },
  {
   "cell_type": "markdown",
   "metadata": {},
   "source": [
    "Test `swap` function."
   ]
  },
  {
   "cell_type": "code",
   "execution_count": 495,
   "metadata": {},
   "outputs": [
    {
     "data": {
      "text/plain": [
       "array([4, 0, 8, 3, 5])"
      ]
     },
     "execution_count": 495,
     "metadata": {},
     "output_type": "execute_result"
    }
   ],
   "source": [
    "swap(data, 1, 4)\n",
    "data"
   ]
  },
  {
   "cell_type": "markdown",
   "metadata": {},
   "source": [
    "Define `partition` function."
   ]
  },
  {
   "cell_type": "code",
   "execution_count": 605,
   "metadata": {},
   "outputs": [],
   "source": [
    "# Function to partition an array according to a pivot point. Default is rightmost pivot.\n",
    "def partition(data, i, j):\n",
    "    pivot = data[j]\n",
    "    left, right = i, j - 1\n",
    "    \n",
    "    while left <= right:\n",
    "        print(f\"data {data}, data[left] {data[left]}, data[right] {data[right]}, pivot {pivot}, left {left}, right {right}\")\n",
    "        while data[left] < pivot and left < len(data):\n",
    "            print(f'data[left] {data[left]}')\n",
    "            left += 1\n",
    "        \n",
    "        while data[right] > pivot and right > left:\n",
    "            print(f'data[right] {data[right]}')\n",
    "            right -= 1\n",
    "            \n",
    "        print(f'Post two whiles left {left} and right {right}. Data left {data[left]} and data right {data[right]}')\n",
    "        \n",
    "        if data[left] >= pivot:\n",
    "            print('swapping')\n",
    "            swap(data, left, right)\n",
    "            left += 1\n",
    "            right -= 1\n",
    "#         print(left, right)\n",
    "    swap(data, left, j)\n",
    "    return left"
   ]
  },
  {
   "cell_type": "code",
   "execution_count": 608,
   "metadata": {},
   "outputs": [
    {
     "data": {
      "text/plain": [
       "array([4, 5, 2, 6, 8, 2, 2, 9, 5, 6])"
      ]
     },
     "execution_count": 608,
     "metadata": {},
     "output_type": "execute_result"
    }
   ],
   "source": [
    "data = np.random.randint(0, 10, size=10)\n",
    "data"
   ]
  },
  {
   "cell_type": "code",
   "execution_count": 609,
   "metadata": {},
   "outputs": [
    {
     "name": "stdout",
     "output_type": "stream",
     "text": [
      "data [4 5 2 6 8 2 2 9 5 6], data[left] 4, data[right] 5, pivot 6, left 0, right 8\n",
      "data[left] 4\n",
      "data[left] 5\n",
      "data[left] 2\n",
      "Post two whiles left 3 and right 8. Data left 6 and data right 5\n",
      "swapping\n",
      "data [4 5 2 5 8 2 2 9 6 6], data[left] 8, data[right] 9, pivot 6, left 4, right 7\n",
      "data[right] 9\n",
      "Post two whiles left 4 and right 6. Data left 8 and data right 2\n",
      "swapping\n",
      "data [4 5 2 5 2 2 8 9 6 6], data[left] 2, data[right] 2, pivot 6, left 5, right 5\n",
      "data[left] 2\n",
      "Post two whiles left 6 and right 5. Data left 8 and data right 2\n",
      "swapping\n",
      "7\n"
     ]
    },
    {
     "data": {
      "text/plain": [
       "array([4, 5, 2, 5, 2, 8, 2, 6, 6, 9])"
      ]
     },
     "execution_count": 609,
     "metadata": {},
     "output_type": "execute_result"
    }
   ],
   "source": [
    "print(partition(data, 0, len(data) - 1))\n",
    "data"
   ]
  },
  {
   "cell_type": "code",
   "execution_count": 522,
   "metadata": {},
   "outputs": [
    {
     "data": {
      "text/plain": [
       "array([3, 0, 4, 5, 8])"
      ]
     },
     "execution_count": 522,
     "metadata": {},
     "output_type": "execute_result"
    }
   ],
   "source": [
    "swap(data, 3, 4)\n",
    "data"
   ]
  },
  {
   "cell_type": "markdown",
   "metadata": {},
   "source": [
    "Test partition function."
   ]
  },
  {
   "cell_type": "code",
   "execution_count": 435,
   "metadata": {},
   "outputs": [
    {
     "data": {
      "text/plain": [
       "array([9, 1, 9, 5, 1, 7, 9, 1, 0, 1])"
      ]
     },
     "execution_count": 435,
     "metadata": {},
     "output_type": "execute_result"
    }
   ],
   "source": [
    "data = np.random.randint(0, 10, size=10)\n",
    "data"
   ]
  },
  {
   "cell_type": "markdown",
   "metadata": {},
   "source": [
    "# Memoization"
   ]
  },
  {
   "cell_type": "code",
   "execution_count": 2,
   "metadata": {},
   "outputs": [],
   "source": [
    "import numpy as np"
   ]
  },
  {
   "cell_type": "code",
   "execution_count": 38,
   "metadata": {},
   "outputs": [],
   "source": [
    "memo = {}"
   ]
  },
  {
   "cell_type": "code",
   "execution_count": 39,
   "metadata": {},
   "outputs": [],
   "source": [
    "def fib(n):\n",
    "    if n in memo:\n",
    "        return memo[n]\n",
    "    elif n <= 1:\n",
    "        memo[n] = 1\n",
    "        return memo[n]\n",
    "    else:\n",
    "        x = fib(n - 1) + fib(n - 2)\n",
    "        memo[n] = x\n",
    "        return memo[n]"
   ]
  },
  {
   "cell_type": "code",
   "execution_count": 42,
   "metadata": {},
   "outputs": [
    {
     "data": {
      "text/plain": [
       "6835702259575806647045396549170580107055408029365524565407553367798082454408054014954534318953113802726603726769523447478238192192714526677939943338306101405105414819705664090901813637296453767095528104868264704914433529355579148731044685634135487735897954629842516947101494253575869699893400976539545740214819819151952085089538422954565146720383752121972115725761141759114990448978941370030912401573418221496592822626"
      ]
     },
     "execution_count": 42,
     "metadata": {},
     "output_type": "execute_result"
    }
   ],
   "source": [
    "fib(2000)"
   ]
  },
  {
   "cell_type": "code",
   "execution_count": null,
   "metadata": {},
   "outputs": [],
   "source": []
  }
 ],
 "metadata": {
  "kernelspec": {
   "display_name": "Python 3",
   "language": "python",
   "name": "python3"
  },
  "language_info": {
   "codemirror_mode": {
    "name": "ipython",
    "version": 3
   },
   "file_extension": ".py",
   "mimetype": "text/x-python",
   "name": "python",
   "nbconvert_exporter": "python",
   "pygments_lexer": "ipython3",
   "version": "3.6.9"
  }
 },
 "nbformat": 4,
 "nbformat_minor": 2
}
